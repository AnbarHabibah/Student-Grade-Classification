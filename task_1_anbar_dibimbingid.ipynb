{
  "cells": [
    {
      "cell_type": "markdown",
      "id": "39bf7b14",
      "metadata": {
        "id": "39bf7b14"
      },
      "source": [
        "## Buatlah sebuah program yang:\n",
        "\n",
        "   1. Meminta input dari pengguna:\n",
        "\n",
        "       - Nama mahasiswa\n",
        "\n",
        "       - NIM mahasiswa\n",
        "\n",
        "       - Nilai ujian (dalam angka, 0–100)\n",
        "\n",
        "   2. Cek dan tampilkan tipe data dari setiap input.\n",
        "\n",
        "   3. Gunakan if-elif-else untuk menentukan kategori nilai, dengan kriteria sebagai berikut:\n",
        "   \n",
        "```\n",
        "Nilai | Kategori\n",
        "85 - 100 | A (Sangat Baik)\n",
        "75 - 84 | B (Baik)\n",
        "60 - 74 | C (Cukup)\n",
        "40 - 59 | D (Kurang)\n",
        "< 40 | E (Sangat Kurang)\n",
        "```\n",
        "\n",
        "```\n",
        "==== Ekspektasi Output Jawaban : =====\n",
        "Masukkan nama mahasiswa: Sarah\n",
        "Masukkan NIM: 12345678\n",
        "Masukkan nilai ujian (0-100): 81\n",
        "\n",
        "Nama: Sarah (type: <class 'str'>)\n",
        "NIM: 12345678 (type: <class 'str'>)\n",
        "Nilai: 81 (type: <class 'int'>)\n",
        "\n",
        "Hasil Evaluasi:\n",
        "Mahasiswa: Sarah (NIM: 12345678)\n",
        "Nilai Ujian: 81\n",
        "Kategori Nilai: B (Baik)\n",
        "```"
      ]
    },
    {
      "cell_type": "code",
      "execution_count": null,
      "id": "e2ab644c",
      "metadata": {
        "colab": {
          "base_uri": "https://localhost:8080/"
        },
        "id": "e2ab644c",
        "outputId": "40cced60-73af-4c87-c102-7dd03dcc2132"
      },
      "outputs": [
        {
          "output_type": "stream",
          "name": "stdout",
          "text": [
            "============ Input Data Mahasiswa ============\n",
            "Masukkan Nama Mahasiswa: Anbar\n",
            "Masukkan NIM: 0000000001\n",
            "Masukkan Nilai Ujian (0-100): 98\n",
            "\n",
            "Nama: Anbar (type: <class 'str'>)\n",
            "NIM: 0000000001 (type: <class 'str'>)\n",
            "Nilai: 98 (type: <class 'int'>)\n",
            "\n",
            "Hasil Evaluasi:\n",
            "Mahasiswa: Anbar (NIM: 0000000001)\n",
            "Nilai Ujian: 98\n",
            "Kategori Nilai: A (Sangat Baik)\n",
            "==============================================\n"
          ]
        }
      ],
      "source": [
        "# menginput data mahasiswa\n",
        "print('============ Input Data Mahasiswa ============')\n",
        "nama = str(input('Masukkan Nama Mahasiswa: '))\n",
        "nim = str(input('Masukkan NIM: '))\n",
        "nilai = int(input('Masukkan Nilai Ujian (0-100): '))\n",
        "\n",
        "# tipe data\n",
        "print('\\nNama: '+ nama + ' (type: ' + str(type(nama)) + ')')\n",
        "print('NIM: '+ nim + ' (type: ' + str(type(nim)) + ')')\n",
        "print('Nilai: '+ str(nilai) + ' (type: ' + str(type(nilai)) + ')')\n",
        "\n",
        "# evaluasi nilai\n",
        "if nilai >= 85 and nilai <=100:\n",
        "  kategori = 'A (Sangat Baik)'\n",
        "elif nilai >= 75 and nilai < 85:\n",
        "  kategori = 'B (Baik)'\n",
        "elif nilai >= 60 and nilai < 75:\n",
        "  kategori = 'C (cukup)'\n",
        "elif nilai >= 40 and nilai < 60:\n",
        "  kategori = 'D (kurang)'\n",
        "elif nilai >= 0 and nilai < 40:\n",
        "  kategori = 'E (sangat kurang)'\n",
        "else:\n",
        "  kategori = 'nilai tidak valid'\n",
        "\n",
        "# hasil evaluasi\n",
        "print('\\nHasil Evaluasi:')\n",
        "print('Mahasiswa: ' + nama + ' (NIM: '+ nim +')')\n",
        "print('Nilai Ujian: '+ str(nilai))\n",
        "print('Kategori Nilai: '+ kategori)\n",
        "print('==============================================')\n"
      ]
    }
  ],
  "metadata": {
    "colab": {
      "provenance": []
    },
    "kernelspec": {
      "display_name": "Python 3 (ipykernel)",
      "language": "python",
      "name": "python3"
    },
    "language_info": {
      "codemirror_mode": {
        "name": "ipython",
        "version": 3
      },
      "file_extension": ".py",
      "mimetype": "text/x-python",
      "name": "python",
      "nbconvert_exporter": "python",
      "pygments_lexer": "ipython3",
      "version": "3.11.4"
    }
  },
  "nbformat": 4,
  "nbformat_minor": 5
}